{
 "cells": [
  {
   "cell_type": "code",
   "execution_count": 1,
   "metadata": {},
   "outputs": [],
   "source": [
    "from pgmpy.readwrite import XMLBIFReader\n",
    "import pandas as pd"
   ]
  },
  {
   "cell_type": "code",
   "execution_count": 3,
   "metadata": {},
   "outputs": [],
   "source": [
    "#Se lee el modelo\n",
    "reader = XMLBIFReader(\"modeloM5CL.xml\")\n",
    "modelo = reader.get_model()"
   ]
  },
  {
   "cell_type": "code",
   "execution_count": 5,
   "metadata": {},
   "outputs": [
    {
     "name": "stdout",
     "output_type": "stream",
     "text": [
      "50\n"
     ]
    }
   ],
   "source": [
    "#ACA VA EL READ DEL CSV\n",
    "x_test=pd.read_csv('x_test.csv')\n",
    "sub=x_test.iloc[:50,:]\n",
    "print(len(sub))"
   ]
  },
  {
   "cell_type": "code",
   "execution_count": 6,
   "metadata": {},
   "outputs": [
    {
     "name": "stdout",
     "output_type": "stream",
     "text": [
      "de 50 estudiantes suministrados, no se espera que alguno pueda ser postulado para la beca.\n"
     ]
    }
   ],
   "source": [
    "def arreglarXML(df):\n",
    "    df=df.replace(' ','_',regex=True)\n",
    "    df=df.replace('-','_',regex=True)\n",
    "    df=df.replace({'\\(': '_', '\\)': '_'}, regex=True)\n",
    "    df=df.replace('__','_',regex=True)\n",
    "    df=df.replace('>','_',regex=True)\n",
    "    df=df.replace('<','_',regex=True)\n",
    "    df=df.replace('/','_',regex=True)\n",
    "    df=df.replace('\\+', '_', regex=True)\n",
    "    suplante=df.astype(str)\n",
    "    suplante=df.applymap(str)\n",
    "    df=suplante\n",
    "    return df\n",
    "def hallarProbabilidad(df):\n",
    "    df=arreglarXML(df)\n",
    "    probs=modelo.predict_probability(df)\n",
    "    probs1=probs['Respuesta_1']\n",
    "    threshold=0.20\n",
    "    probs['resML']=(probs1>threshold).astype(int)\n",
    "    masde360=sum(probs['resML'])\n",
    "    ids=probs[probs['resML']==1].index.values\n",
    "    cantidad=len(df)\n",
    "    if masde360==0:\n",
    "        return (f\"de {cantidad} estudiantes suministrados, no se espera que alguno pueda ser postulado para la beca.\")\n",
    "    elif masde360==1:\n",
    "        return(f\"De {cantidad} estudiantes suministrados, solo se espera que 1 se pueda postular a la beca, que es el estuidante con id {ids}. \")\n",
    "    else:\n",
    "        return (f\"De {cantidad} estudiantes suministrados, la cantidad esperada de estudiantes que pueden postularse a la beca son: {masde360}, los cuales tienen estos ids: {ids}. \")\n",
    "\n",
    "print(hallarProbabilidad(sub))\n"
   ]
  },
  {
   "cell_type": "code",
   "execution_count": 7,
   "metadata": {},
   "outputs": [],
   "source": []
  }
 ],
 "metadata": {
  "kernelspec": {
   "display_name": "Python 3",
   "language": "python",
   "name": "python3"
  },
  "language_info": {
   "codemirror_mode": {
    "name": "ipython",
    "version": 3
   },
   "file_extension": ".py",
   "mimetype": "text/x-python",
   "name": "python",
   "nbconvert_exporter": "python",
   "pygments_lexer": "ipython3",
   "version": "3.9.7"
  },
  "orig_nbformat": 4
 },
 "nbformat": 4,
 "nbformat_minor": 2
}
